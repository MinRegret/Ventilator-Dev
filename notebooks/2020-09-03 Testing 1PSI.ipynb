{
 "cells": [
  {
   "cell_type": "code",
   "execution_count": 18,
   "metadata": {},
   "outputs": [],
   "source": [
    "import time\n",
    "import datetime\n",
    "import tqdm\n",
    "import random\n",
    "import numpy as np\n",
    "import matplotlib.pyplot as plt\n",
    "\n",
    "import vent\n",
    "from vent import io"
   ]
  },
  {
   "cell_type": "code",
   "execution_count": 14,
   "metadata": {},
   "outputs": [
    {
     "name": "stdout",
     "output_type": "stream",
     "text": [
      "  [         adc         ]  opts: {'i2c_bus': 1, 'address': 72}\n",
      "  [     inlet_valve     ]  opts: {'form': 'Normally Closed'}\n",
      "  [    control_valve    ]  opts: {'pin': 12, 'form': 'Normally Closed', 'response': '/home/pi/src/vent/vent/io/config/calibration/SMC_PVQ31_5G_23_01N_response'}\n",
      "  [  expiratory_valve   ]  opts: {'pin': 27, 'form': 'Normally Closed'}\n",
      "  [   pressure_sensor   ]  opts: {'offset_voltage': 2.25, 'conversion_factor': 70.3, 'MUX': 0, 'adc': <vent.io.devices.base.ADS1015 object at 0xaaa1d1d0>, 'output_span': 2.0}\n",
      "  [    oxygen_sensor    ]  opts: {'offset_voltage': 2.2, 'conversion_factor': 70.3, 'MUX': 3, 'adc': <vent.io.devices.base.ADS1015 object at 0xaaa1d1d0>, 'output_span': 2.0}\n",
      "  [   flow_sensor_ex    ]  opts: {'offset_voltage': 2.25, 'conversion_factor': 1, 'MUX': 1, 'adc': <vent.io.devices.base.ADS1015 object at 0xaaa1d1d0>, 'output_span': 4.0}\n"
     ]
    }
   ],
   "source": [
    "hal = io.Hal(\"../vent/io/config/devices.ini\")"
   ]
  },
  {
   "cell_type": "code",
   "execution_count": 16,
   "metadata": {},
   "outputs": [
    {
     "name": "stderr",
     "output_type": "stream",
     "text": [
      "  9%|▉         | 39/440 [00:04<00:42,  9.54it/s]"
     ]
    },
    {
     "name": "stdout",
     "output_type": "stream",
     "text": [
      "38\n"
     ]
    },
    {
     "name": "stderr",
     "output_type": "stream",
     "text": [
      " 10%|█         | 44/440 [00:04<00:41,  9.43it/s]"
     ]
    },
    {
     "name": "stdout",
     "output_type": "stream",
     "text": [
      "43\n"
     ]
    },
    {
     "name": "stderr",
     "output_type": "stream",
     "text": [
      " 11%|█         | 47/440 [00:04<00:41,  9.47it/s]"
     ]
    },
    {
     "name": "stdout",
     "output_type": "stream",
     "text": [
      "46\n",
      "47\n"
     ]
    },
    {
     "name": "stderr",
     "output_type": "stream",
     "text": [
      " 11%|█▏        | 50/440 [00:05<00:42,  9.18it/s]"
     ]
    },
    {
     "name": "stdout",
     "output_type": "stream",
     "text": [
      "49\n"
     ]
    },
    {
     "name": "stderr",
     "output_type": "stream",
     "text": [
      " 16%|█▌        | 71/440 [00:07<00:39,  9.45it/s]\n"
     ]
    }
   ],
   "source": [
    "xs = []\n",
    "raws = []\n",
    "setpoints = []\n",
    "ts = []\n",
    "\n",
    "hal.setpoint_ex = 1\n",
    "hal.setpoint_in = 0\n",
    "\n",
    "for i in tqdm.tqdm(range(11*40)):\n",
    "#     if i % 40 == 0 and i != 0:\n",
    "#         hal.setpoint_in += 10\n",
    "    if hal.setpoint_in > 99.5:\n",
    "        break\n",
    "    if i % 10 == 0:\n",
    "        hal.setpoint_in += 0.5\n",
    "    setpoints.append(hal.setpoint_in)\n",
    "    raw = hal._pressure_sensor._raw_read()\n",
    "    x = hal._pressure_sensor._convert(raw)\n",
    "    if x < -1:\n",
    "        if x > -1.1:\n",
    "            print(i)\n",
    "        if x < -2:\n",
    "            break\n",
    "    xs.append(x)\n",
    "    raws.append(raw)\n",
    "    ts.append(datetime.datetime.now().timestamp())\n",
    "    time.sleep(0.1)\n",
    "\n",
    "hal.setpoint_in = 0\n",
    "hal.setpoint_ex = 0\n",
    "ts, xs = np.array(ts), np.array(xs)"
   ]
  },
  {
   "cell_type": "code",
   "execution_count": 19,
   "metadata": {},
   "outputs": [
    {
     "data": {
      "text/plain": [
       "[<matplotlib.lines.Line2D at 0xa98e92d0>]"
      ]
     },
     "execution_count": 19,
     "metadata": {},
     "output_type": "execute_result"
    },
    {
     "data": {
      "image/png": "[encoded data removed]",
      "text/plain": [
       "<Figure size 432x288 with 1 Axes>"
      ]
     },
     "metadata": {
      "needs_background": "light"
     },
     "output_type": "display_data"
    }
   ],
   "source": [
    "plt.plot(xs)"
   ]
  },
  {
   "cell_type": "code",
   "execution_count": null,
   "metadata": {},
   "outputs": [],
   "source": []
  }
 ],
 "metadata": {
  "kernelspec": {
   "display_name": "Python 3",
   "language": "python",
   "name": "python3"
  },
  "language_info": {
   "codemirror_mode": {
    "name": "ipython",
    "version": 3
   },
   "file_extension": ".py",
   "mimetype": "text/x-python",
   "name": "python",
   "nbconvert_exporter": "python",
   "pygments_lexer": "ipython3",
   "version": "3.7.3"
  }
 },
 "nbformat": 4,
 "nbformat_minor": 4
}
